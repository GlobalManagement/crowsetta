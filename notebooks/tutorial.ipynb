{
 "cells": [
  {
   "cell_type": "markdown",
   "metadata": {},
   "source": [
    "# Tutorial"
   ]
  },
  {
   "cell_type": "markdown",
   "metadata": {},
   "source": [
    "This tutorial present beginners with an introduction to `crowsetta`.\n",
    "\n",
    "The first thing we need to do to work with any Python library is import it."
   ]
  },
  {
   "cell_type": "code",
   "execution_count": 2,
   "metadata": {},
   "outputs": [],
   "source": [
    "import crowsetta"
   ]
  },
  {
   "cell_type": "markdown",
   "metadata": {},
   "source": [
    "## Getting some data to take `crowsetta` for a test drive\n",
    "Since `crowsetta` is a tool to working with annotations of vocalizations, we need some audio files containing vocalizations that are annotated. In this case, birdsong.\n",
    "\n",
    "The `formats` function tells us what formats are built in to Crowsetta."
   ]
  },
  {
   "cell_type": "code",
   "execution_count": 3,
   "metadata": {},
   "outputs": [
    {
     "data": {
      "text/plain": [
       "'Annotation formats built in to Crowsetta: notmat, koumura'"
      ]
     },
     "execution_count": 3,
     "metadata": {},
     "output_type": "execute_result"
    }
   ],
   "source": [
    "crowsetta.formats()"
   ]
  },
  {
   "cell_type": "markdown",
   "metadata": {},
   "source": [
    "You can download small example datasets of the built-in formats with the `fetch` function in the `data` module, like so:"
   ]
  },
  {
   "cell_type": "code",
   "execution_count": 4,
   "metadata": {},
   "outputs": [
    {
     "name": "stdout",
     "output_type": "stream",
     "text": [
      "Downloading https://s3-eu-west-1.amazonaws.com/pfigshare-u-files/13993349/cbinnotmat.tar.gz (8.6 MB)\n",
      "[........................................] 100.00000 - (  8.6 MB /   8.6 MB,    12 kB/s)   \n",
      "File saved as ./cbin-notmat.tar.gz.\n",
      "\n",
      "extracting ./cbin-notmat.tar.gz\n"
     ]
    }
   ],
   "source": [
    "crowsetta.data.fetch(format='notmat')"
   ]
  },
  {
   "cell_type": "markdown",
   "metadata": {},
   "source": [
    "Here we downloaded some `.cbin` audio files. Each `.cbin` file has an associated `.not.mat` file that contains the annotation."
   ]
  },
  {
   "cell_type": "code",
   "execution_count": 8,
   "metadata": {},
   "outputs": [
    {
     "name": "stdout",
     "output_type": "stream",
     "text": [
      "./cbin-notmat/032312/gy6or6_baseline_230312_0808.138.cbin\n",
      "./cbin-notmat/032312/gy6or6_baseline_230312_0808.138.cbin.not.mat\n",
      "./cbin-notmat/032312/gy6or6_baseline_230312_0809.141.cbin\n",
      "./cbin-notmat/032312/gy6or6_baseline_230312_0809.141.cbin.not.mat\n",
      "./cbin-notmat/032312/gy6or6_baseline_230312_0810.148.cbin\n",
      "./cbin-notmat/032312/gy6or6_baseline_230312_0810.148.cbin.not.mat\n",
      "./cbin-notmat/032312/gy6or6_baseline_230312_0811.159.cbin\n",
      "./cbin-notmat/032312/gy6or6_baseline_230312_0811.159.cbin.not.mat\n",
      "./cbin-notmat/032312/gy6or6_baseline_230312_0813.163.cbin\n",
      "./cbin-notmat/032312/gy6or6_baseline_230312_0813.163.cbin.not.mat\n",
      "./cbin-notmat/032312/gy6or6_baseline_230312_0816.179.cbin\n",
      "./cbin-notmat/032312/gy6or6_baseline_230312_0816.179.cbin.not.mat\n",
      "./cbin-notmat/032312/gy6or6_baseline_230312_0817.183.cbin\n",
      "./cbin-notmat/032312/gy6or6_baseline_230312_0817.183.cbin.not.mat\n",
      "./cbin-notmat/032312/gy6or6_baseline_230312_0819.190.cbin\n",
      "./cbin-notmat/032312/gy6or6_baseline_230312_0819.190.cbin.not.mat\n",
      "./cbin-notmat/032312/gy6or6_baseline_230312_0820.196.cbin\n",
      "./cbin-notmat/032312/gy6or6_baseline_230312_0820.196.cbin.not.mat\n",
      "./cbin-notmat/032312/gy6or6_baseline_230312_0821.202.cbin\n",
      "./cbin-notmat/032312/gy6or6_baseline_230312_0821.202.cbin.not.mat\n"
     ]
    }
   ],
   "source": [
    "!ls ./cbin-notmat/032312/*.cbin*"
   ]
  },
  {
   "cell_type": "markdown",
   "metadata": {},
   "source": [
    "(It doesn't matter much for our purposes, but ... files in the `.not.mat` annotation format are produced by a Matlab GUI, evsonganaly, and are used to annotate audio files produced by a Labview program for running behavioral experiments called EvTAF.)\n",
    "\n",
    "## Using the `Transcriber` to load annotation files into a data type we can work with in Python\n",
    "Now we want to use `crowsetta` to load the annotations into some data type that makes it easy to get what we want out of audio files.  \n",
    "First we need all the annotation files."
   ]
  },
  {
   "cell_type": "code",
   "execution_count": 9,
   "metadata": {},
   "outputs": [
    {
     "data": {
      "text/plain": [
       "['./cbin-notmat/032312/gy6or6_baseline_230312_0819.190.cbin.not.mat',\n",
       " './cbin-notmat/032312/gy6or6_baseline_230312_0810.148.cbin.not.mat',\n",
       " './cbin-notmat/032312/gy6or6_baseline_230312_0817.183.cbin.not.mat',\n",
       " './cbin-notmat/032312/gy6or6_baseline_230312_0816.179.cbin.not.mat',\n",
       " './cbin-notmat/032312/gy6or6_baseline_230312_0813.163.cbin.not.mat',\n",
       " './cbin-notmat/032312/gy6or6_baseline_230312_0820.196.cbin.not.mat',\n",
       " './cbin-notmat/032312/gy6or6_baseline_230312_0809.141.cbin.not.mat',\n",
       " './cbin-notmat/032312/gy6or6_baseline_230312_0821.202.cbin.not.mat',\n",
       " './cbin-notmat/032312/gy6or6_baseline_230312_0811.159.cbin.not.mat',\n",
       " './cbin-notmat/032312/gy6or6_baseline_230312_0808.138.cbin.not.mat']"
      ]
     },
     "execution_count": 9,
     "metadata": {},
     "output_type": "execute_result"
    }
   ],
   "source": [
    "from glob import glob  # function that finds files matching an expression\n",
    "notmats = glob('./cbin-notmat/032312/*.not.mat')\n",
    "notmats"
   ]
  },
  {
   "cell_type": "markdown",
   "metadata": {},
   "source": [
    "Now that we have our annotation files in a variable, we use the `Transcriber` to load them.\n",
    "\n",
    "The `Transcriber` is a Python `class`, and we want to create a new `instance` of that class. You don't have to understand what that means, but you do have to know that before you can do anything with a `Transcriber`, you have to call the class, as if it were a function, and assign it to some variable, like this:"
   ]
  },
  {
   "cell_type": "code",
   "execution_count": 11,
   "metadata": {},
   "outputs": [],
   "source": [
    "scribe = crowsetta.Transcriber()"
   ]
  },
  {
   "cell_type": "markdown",
   "metadata": {},
   "source": [
    "Now our `scribe` object has `methods` (functions that \"belong\" to it) that we can use on our annotation files.\n",
    "\n",
    "The `to_seq` method converts each file to a `Sequence`, one of the data types that helps us work with the annotation."
   ]
  },
  {
   "cell_type": "code",
   "execution_count": 13,
   "metadata": {},
   "outputs": [],
   "source": [
    "seq = scribe.to_seq(file=notmats, file_format='notmat')"
   ]
  },
  {
   "cell_type": "markdown",
   "metadata": {},
   "source": [
    "For each annotation file, we should have a `Sequence`."
   ]
  },
  {
   "cell_type": "code",
   "execution_count": 15,
   "metadata": {},
   "outputs": [
    {
     "name": "stdout",
     "output_type": "stream",
     "text": [
      "Number of annotation files:  10\n",
      "Number of Sequences:  10\n",
      "The number of annotation files is equal to number of sequences.\n"
     ]
    }
   ],
   "source": [
    "print(\"Number of annotation files: \", len(notmats))\n",
    "print(\"Number of Sequences: \", len(seq))\n",
    "if len(notmats) == len(seq):\n",
    "    print(\"The number of annotation files is equal to number of sequences.\")"
   ]
  },
  {
   "cell_type": "markdown",
   "metadata": {},
   "source": [
    "Each `Sequence` consists of some number of `Segment`s, i.e., a part of the sequence defined by an `onset` and `offset` that has a `label` associated with it."
   ]
  },
  {
   "cell_type": "code",
   "execution_count": 24,
   "metadata": {},
   "outputs": [
    {
     "name": "stdout",
     "output_type": "stream",
     "text": [
      "type of first element of seq:  <class 'crowsetta.classes.Sequence'>\n",
      "\n",
      "First two Segments of first Sequence:\n",
      " [Segment(label='i', onset_s=0.435, offset_s=0.511, onset_Hz=13924, offset_Hz=16350, file='./cbin-notmat/032312/gy6or6_baseline_230312_0819.190.cbin'), Segment(label='i', onset_s=0.583, offset_s=0.662, onset_Hz=18670, offset_Hz=21184, file='./cbin-notmat/032312/gy6or6_baseline_230312_0819.190.cbin')]\n"
     ]
    }
   ],
   "source": [
    "print(\"type of first element of seq: \", type(seq[0]))\n",
    "print(\"\\nFirst two Segments of first Sequence:\\n\", seq[0].segments[0:2])"
   ]
  },
  {
   "cell_type": "code",
   "execution_count": null,
   "metadata": {},
   "outputs": [],
   "source": []
  }
 ],
 "metadata": {
  "kernelspec": {
   "display_name": "Python 3",
   "language": "python",
   "name": "python3"
  },
  "language_info": {
   "codemirror_mode": {
    "name": "ipython",
    "version": 3
   },
   "file_extension": ".py",
   "mimetype": "text/x-python",
   "name": "python",
   "nbconvert_exporter": "python",
   "pygments_lexer": "ipython3",
   "version": "3.6.7"
  }
 },
 "nbformat": 4,
 "nbformat_minor": 2
}
