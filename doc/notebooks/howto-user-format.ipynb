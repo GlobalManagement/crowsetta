{
 "cells": [
  {
   "cell_type": "raw",
   "metadata": {},
   "source": [
    ".. _howto-user-format:"
   ]
  },
  {
   "cell_type": "markdown",
   "metadata": {},
   "source": [
    "# **How to use** `crowsetta` **with your own annotation format**\n",
    "\n",
    "This section shows you how to use `crowsetta` for working with your own annotation format for vocalizations (or some other format not currently built into the library).\n",
    "\n",
    "You can get the Jupyter notebook for this section by going to https://github.com/NickleDave/crowsetta and clicking on the big green \"Clone or Download\" button on the right side of the screen. You can then find this notebook and others in the `crowsetta/notebooks/` directory.\n",
    "\n",
    "## Steps to using `crowsetta` with your own annotation format\n",
    "\n",
    "Below we'll walk through a case study for using `crowsetta` with your annotation format. Here's an outline of the steps we'll walk through:\n",
    "\n",
    "1. load your annotation into a `Sequence`\n",
    "2. return this `Sequence` from a function\n",
    "3. make a `Transcriber` that knows to use your function when you tell it you want to turn your annotation files into `Sequence`s\n",
    "4. use the `to_seq` method of the `Transcriber` to get `Sequence`s that you can use in your Python code for your analysis\n",
    "5. use the `to_csv` method to share your annotation in a simple text file that others can use without having to know about the format\n",
    "\n",
    "## Case Study: the `BatLAB` format\n",
    "\n",
    "Let's say you work in the Schumacher lab, studying bat vocalizations. The lab research specialist, Alfred, has spent years writing an application in Labview to capture bat calls, called `SoNAR` (\"Sound and Neural Activity Recorder\"). Alfred has also written a GUI in MATLAB called `BatLAB` that lets you interactively annotate audio files containing the bats' calls, and saves the annotations in `.mat` (MATLAB data) files.\n",
    "\n",
    "You've started to work with Python to analyze your data, because you like the data science and machine learning libraries. However, you find yourself writing the same code over and over again to unpack the annotations from the `.mat` files made by `BatLAB`. Every time you use the code for a new analysis, you have to modify it slightly. The code has some weird, hard-to-read lines to deal with the way that the complicated MATLAB `struct`s created by `BatLAB` load into Python. The code also has several repetitive steps to deal with the idiosyncracies of how `SoNAR` and `BatLAB` save data. You can't change `BatLAB` or `SoNAR` though, because that's Alfred's job, and everyone else's code that was written ten years ago (and still works!) expects those idiosyncracies.\n",
    "\n",
    "You know that it's a good idea to turn the code you wrote into a function (because you took part in a [Software Carpentry](https://software-carpentry.org/) workshop and then you read [this paper](https://journals.plos.org/ploscompbiol/article?id=10.1371/journal.pcbi.1005510).) You figured out which bits of the code will be common to all your projects (the bits above) and you make that into a function. At first you just copy and paste it into all your projects. Then you decide you also want to save everyone else in your lab the effort of writing the same code, so you put the script on your lab's Github page. This is a step in the right direction, although your function gives you back a `list` of `dict`s. You have to type a lot of things like `annot_list[0].annot_dict['seg_onsets']` which gets kind of annoying and makes you wonder if you should spend Christmas break learning how to use one of those hacker text editors like `vim`.\n",
    "\n",
    "But now you're publishing a paper in *PLOS Comp. Bio.* called \"Pidgeon Bat: Emergence of Dialects in Colonies of Multiple Bat Species\". You want to share your data with the world, mainly to mollify reviewer #3 (who you are pretty sure from the way they write is Oswald Cobblepot, professor emeritus of ethology at Metropolitan University of Fruitville, Florida, and author of the seminal review from 1982, \"Bat Calls: A Completely Innate Behavior Encoded Genetically\"). The problem is that reviewer #3 only knows how to write Fortran code and definitely doesn't have the patience to read through `parse_batlab_mat` to figure out if they are convinced that your group can consistently record and identify bat calls.\n",
    "\n",
    "What you really want is to share your data and write your code in a way that doesn't depend on anyone knowing anything about `BatLAB` or`SoNAR` and how they save data and annotations. This is where `crowsetta` comes to your rescue.\n",
    "\n",
    "Okay, now that we've set up some background for our case study, let's go through the steps we outlined above.\n",
    "\n",
    "### 1. Load your format into a `Sequence`\n",
    "\n",
    "The `BatLAB` GUI saves annotation into `annotation.mat` files with two variables:  \n",
    "  - `filenames`: a vector where each element is the name of an audio file\n",
    "  - `annotations`: a `struct` that has a record for each element in `filenames`, and that record is the annotation corresponding to the audio file with the same index in `filenames`"
   ]
  },
  {
   "cell_type": "code",
   "execution_count": 1,
   "metadata": {},
   "outputs": [
    {
     "name": "stdout",
     "output_type": "stream",
     "text": [
      "variables in .mat file: ['filenames', 'annotations']\n"
     ]
    }
   ],
   "source": [
    "from scipy.io import loadmat\n",
    "bat1_annotation = loadmat('../src/bin/bird1_annotation.mat')\n",
    "print('variables in .mat file:',\n",
    "      [var for var in list(bat1_annotation.keys())\n",
    "       if not var.startswith('__')]\n",
    "     )"
   ]
  },
  {
   "cell_type": "markdown",
   "metadata": {},
   "source": [
    "Here's the code you wrote to unpack the `.mat` files:"
   ]
  },
  {
   "cell_type": "code",
   "execution_count": 12,
   "metadata": {},
   "outputs": [],
   "source": [
    "# %load -r 7-8,14-45 ../src/bin/parsebat.py\n",
    "mat = loadmat(mat_file, squeeze_me=True)\n",
    "annot_list = []\n",
    "for filename, annotation in zip(mat['filenames'], mat['annotations']):\n",
    "    # below, .tolist() does not actually create a list,\n",
    "    # instead gets ndarray out of a zero-length ndarray of dtype=object.\n",
    "    # This is just weirdness that results from loading complicated data\n",
    "    # structure in .mat file.\n",
    "    seg_onsets = annotation['segOnset'].tolist()\n",
    "    seg_offsets = annotation['segOffset'].tolist()\n",
    "    seg_types = annotation['segType'].tolist()\n",
    "    if type(seg_types) == int:\n",
    "        # this happens when there's only one syllable in the file\n",
    "        # with only one corresponding label\n",
    "        seg_types = np.asarray([seg_types])  # so make it a one-element list\n",
    "    elif type(seg_types) == np.ndarray:\n",
    "        # this should happen whenever there's more than one label\n",
    "        pass\n",
    "    else:\n",
    "        # something unexpected happened\n",
    "        raise ValueError(\"Unable to load labels from {}, because \"\n",
    "                         \"the segType parsed as type {} which is \"\n",
    "                         \"not recognized.\".format(wav_filename,\n",
    "                                                  type(labels)))\n",
    "    BATLAB_SAMP_FREQ = 33100\n",
    "    seg_onsets_Hz = np.round(seg_onsets * BATLAB_SAMP_FREQ).astype(int)\n",
    "    seg_offsets_Hz = np.round(seg_offsets * BATLAB_SAMP_FREQ).astype(int)\n",
    "    annot_dict = {\n",
    "        'seg_types': seg_types,\n",
    "        'seg_onsets': seg_onsets,\n",
    "        'seg_offsets': seg_offsets,\n",
    "        'seg_onsets_Hz': seg_onsets_Hz,\n",
    "        'seg_offsets_Hz': seg_offsets_Hz,\n",
    "    }\n",
    "    annot_list.append(annot_dict)"
   ]
  },
  {
   "cell_type": "markdown",
   "metadata": {},
   "source": [
    "Like we said above, the code has some weird, hard-to-read lines to deal with the way that the complicated MATLAB `struct`s created by `BatLAB` load into Python, such as calling `tolist()` and making sure the labels get loaded correctly into a numpy array. And the code has several repetitive steps to deal with the idiosyncracies of `SoNAR` and `BatLAB`, like converting the start and stop times of the calls from seconds back to Hertz so you can find those times in the raw audio files.\n",
    "\n",
    "When it runs on a file, you get back an `annot_list` where each item is an `annot_dict` that contains the annotations for a file, like this:\n",
    "```Python\n",
    "annot_dict = {\n",
    "    'seg_types': ,\n",
    "    'seq_onsets':\n",
    "}\n",
    "```\n",
    "\n",
    "Again, as we said above, you turned your code into a function to make it easier to use across projects:"
   ]
  },
  {
   "cell_type": "markdown",
   "metadata": {},
   "source": [
    "```Python\n",
    "import numpy as np\n",
    "from scipy.io import loadmat\n",
    "\n",
    "def parse_batlab_mat(mat_file):\n",
    "    \"\"\"parse batlab annotation.mat file\"\"\"\n",
    "    # code from above\n",
    "    return annot_list\n",
    "```"
   ]
  },
  {
   "cell_type": "markdown",
   "metadata": {},
   "source": [
    "All you need to do is take this code you already wrote, and instead of returning all of those variables, you can turn them into a `Sequence`.\n",
    "\n",
    "Let's make a `Sequence` using the `from_keyword` function."
   ]
  },
  {
   "cell_type": "code",
   "execution_count": 2,
   "metadata": {},
   "outputs": [
    {
     "name": "stdout",
     "output_type": "stream",
     "text": [
      "/home/ildefonso/Documents/repositories/coding/birdsong/crowsetta/src/bin\n"
     ]
    }
   ],
   "source": [
    "cd ../src/bin"
   ]
  },
  {
   "cell_type": "code",
   "execution_count": 3,
   "metadata": {},
   "outputs": [
    {
     "name": "stdout",
     "output_type": "stream",
     "text": [
      "> /home/ildefonso/Documents/repositories/coding/birdsong/crowsetta/src/bin/parsebat.py(20)parse_batlab_mat()\n",
      "-> seg_onsets = annotation['segOnset'].tolist()\n"
     ]
    },
    {
     "name": "stdin",
     "output_type": "stream",
     "text": [
      "(Pdb)  annotation\n"
     ]
    },
    {
     "name": "stdout",
     "output_type": "stream",
     "text": [
      "(array([0.00297619, 0.279125  , 0.55564729, 0.62654167, 0.68429167,\n",
      "       0.73929167, 0.79429167, 0.85020833, 0.906125  , 0.96479167,\n",
      "       1.02345833, 1.07754167, 1.128875  , 1.19579167, 1.25354167]), array([0.14150433, 0.504625  , 0.59629167, 0.64945833, 0.70445833,\n",
      "       0.75945833, 0.83004167, 0.884125  , 0.94095833, 1.013375  ,\n",
      "       1.06654167, 1.11156764, 1.17654167, 1.23154167, 1.29020833]), array([1, 1, 5, 2, 2, 2, 2, 2, 2, 2, 2, 2, 2, 2, 2], dtype=uint8))\n"
     ]
    },
    {
     "name": "stdin",
     "output_type": "stream",
     "text": [
      "(Pdb)  q\n"
     ]
    },
    {
     "ename": "BdbQuit",
     "evalue": "",
     "output_type": "error",
     "traceback": [
      "\u001b[0;31m---------------------------------------------------------------------------\u001b[0m",
      "\u001b[0;31mBdbQuit\u001b[0m                                   Traceback (most recent call last)",
      "\u001b[0;32m<ipython-input-3-017ab488e7f0>\u001b[0m in \u001b[0;36m<module>\u001b[0;34m\u001b[0m\n\u001b[1;32m      1\u001b[0m \u001b[0;32mfrom\u001b[0m \u001b[0mparsebat\u001b[0m \u001b[0;32mimport\u001b[0m \u001b[0mparse_batlab_mat\u001b[0m\u001b[0;34m\u001b[0m\u001b[0;34m\u001b[0m\u001b[0m\n\u001b[1;32m      2\u001b[0m \u001b[0;34m\u001b[0m\u001b[0m\n\u001b[0;32m----> 3\u001b[0;31m \u001b[0mannot_list\u001b[0m \u001b[0;34m=\u001b[0m \u001b[0mparse_batlab_mat\u001b[0m\u001b[0;34m(\u001b[0m\u001b[0mmat_file\u001b[0m\u001b[0;34m=\u001b[0m\u001b[0;34m'bird1_annotation.mat'\u001b[0m\u001b[0;34m)\u001b[0m\u001b[0;34m\u001b[0m\u001b[0;34m\u001b[0m\u001b[0m\n\u001b[0m",
      "\u001b[0;32m~/Documents/repositories/coding/birdsong/crowsetta/src/bin/parsebat.py\u001b[0m in \u001b[0;36mparse_batlab_mat\u001b[0;34m(mat_file)\u001b[0m\n\u001b[1;32m     18\u001b[0m         \u001b[0;31m# structure in .mat file.\u001b[0m\u001b[0;34m\u001b[0m\u001b[0;34m\u001b[0m\u001b[0;34m\u001b[0m\u001b[0m\n\u001b[1;32m     19\u001b[0m         \u001b[0;32mimport\u001b[0m \u001b[0mpdb\u001b[0m\u001b[0;34m;\u001b[0m\u001b[0mpdb\u001b[0m\u001b[0;34m.\u001b[0m\u001b[0mset_trace\u001b[0m\u001b[0;34m(\u001b[0m\u001b[0;34m)\u001b[0m\u001b[0;34m\u001b[0m\u001b[0;34m\u001b[0m\u001b[0m\n\u001b[0;32m---> 20\u001b[0;31m         \u001b[0mseg_onsets\u001b[0m \u001b[0;34m=\u001b[0m \u001b[0mannotation\u001b[0m\u001b[0;34m[\u001b[0m\u001b[0;34m'segOnset'\u001b[0m\u001b[0;34m]\u001b[0m\u001b[0;34m.\u001b[0m\u001b[0mtolist\u001b[0m\u001b[0;34m(\u001b[0m\u001b[0;34m)\u001b[0m\u001b[0;34m\u001b[0m\u001b[0;34m\u001b[0m\u001b[0m\n\u001b[0m\u001b[1;32m     21\u001b[0m         \u001b[0mseg_offsets\u001b[0m \u001b[0;34m=\u001b[0m \u001b[0mannotation\u001b[0m\u001b[0;34m[\u001b[0m\u001b[0;34m'segOffset'\u001b[0m\u001b[0;34m]\u001b[0m\u001b[0;34m.\u001b[0m\u001b[0mtolist\u001b[0m\u001b[0;34m(\u001b[0m\u001b[0;34m)\u001b[0m\u001b[0;34m\u001b[0m\u001b[0;34m\u001b[0m\u001b[0m\n\u001b[1;32m     22\u001b[0m         \u001b[0mseg_types\u001b[0m \u001b[0;34m=\u001b[0m \u001b[0mannotation\u001b[0m\u001b[0;34m[\u001b[0m\u001b[0;34m'segType'\u001b[0m\u001b[0;34m]\u001b[0m\u001b[0;34m.\u001b[0m\u001b[0mtolist\u001b[0m\u001b[0;34m(\u001b[0m\u001b[0;34m)\u001b[0m\u001b[0;34m\u001b[0m\u001b[0;34m\u001b[0m\u001b[0m\n",
      "\u001b[0;32m~/Documents/repositories/coding/birdsong/crowsetta/src/bin/parsebat.py\u001b[0m in \u001b[0;36mparse_batlab_mat\u001b[0;34m(mat_file)\u001b[0m\n\u001b[1;32m     18\u001b[0m         \u001b[0;31m# structure in .mat file.\u001b[0m\u001b[0;34m\u001b[0m\u001b[0;34m\u001b[0m\u001b[0;34m\u001b[0m\u001b[0m\n\u001b[1;32m     19\u001b[0m         \u001b[0;32mimport\u001b[0m \u001b[0mpdb\u001b[0m\u001b[0;34m;\u001b[0m\u001b[0mpdb\u001b[0m\u001b[0;34m.\u001b[0m\u001b[0mset_trace\u001b[0m\u001b[0;34m(\u001b[0m\u001b[0;34m)\u001b[0m\u001b[0;34m\u001b[0m\u001b[0;34m\u001b[0m\u001b[0m\n\u001b[0;32m---> 20\u001b[0;31m         \u001b[0mseg_onsets\u001b[0m \u001b[0;34m=\u001b[0m \u001b[0mannotation\u001b[0m\u001b[0;34m[\u001b[0m\u001b[0;34m'segOnset'\u001b[0m\u001b[0;34m]\u001b[0m\u001b[0;34m.\u001b[0m\u001b[0mtolist\u001b[0m\u001b[0;34m(\u001b[0m\u001b[0;34m)\u001b[0m\u001b[0;34m\u001b[0m\u001b[0;34m\u001b[0m\u001b[0m\n\u001b[0m\u001b[1;32m     21\u001b[0m         \u001b[0mseg_offsets\u001b[0m \u001b[0;34m=\u001b[0m \u001b[0mannotation\u001b[0m\u001b[0;34m[\u001b[0m\u001b[0;34m'segOffset'\u001b[0m\u001b[0;34m]\u001b[0m\u001b[0;34m.\u001b[0m\u001b[0mtolist\u001b[0m\u001b[0;34m(\u001b[0m\u001b[0;34m)\u001b[0m\u001b[0;34m\u001b[0m\u001b[0;34m\u001b[0m\u001b[0m\n\u001b[1;32m     22\u001b[0m         \u001b[0mseg_types\u001b[0m \u001b[0;34m=\u001b[0m \u001b[0mannotation\u001b[0m\u001b[0;34m[\u001b[0m\u001b[0;34m'segType'\u001b[0m\u001b[0;34m]\u001b[0m\u001b[0;34m.\u001b[0m\u001b[0mtolist\u001b[0m\u001b[0;34m(\u001b[0m\u001b[0;34m)\u001b[0m\u001b[0;34m\u001b[0m\u001b[0;34m\u001b[0m\u001b[0m\n",
      "\u001b[0;32m~/anaconda3/envs/conbirt-env/lib/python3.6/bdb.py\u001b[0m in \u001b[0;36mtrace_dispatch\u001b[0;34m(self, frame, event, arg)\u001b[0m\n\u001b[1;32m     49\u001b[0m             \u001b[0;32mreturn\u001b[0m \u001b[0;31m# None\u001b[0m\u001b[0;34m\u001b[0m\u001b[0;34m\u001b[0m\u001b[0m\n\u001b[1;32m     50\u001b[0m         \u001b[0;32mif\u001b[0m \u001b[0mevent\u001b[0m \u001b[0;34m==\u001b[0m \u001b[0;34m'line'\u001b[0m\u001b[0;34m:\u001b[0m\u001b[0;34m\u001b[0m\u001b[0;34m\u001b[0m\u001b[0m\n\u001b[0;32m---> 51\u001b[0;31m             \u001b[0;32mreturn\u001b[0m \u001b[0mself\u001b[0m\u001b[0;34m.\u001b[0m\u001b[0mdispatch_line\u001b[0m\u001b[0;34m(\u001b[0m\u001b[0mframe\u001b[0m\u001b[0;34m)\u001b[0m\u001b[0;34m\u001b[0m\u001b[0;34m\u001b[0m\u001b[0m\n\u001b[0m\u001b[1;32m     52\u001b[0m         \u001b[0;32mif\u001b[0m \u001b[0mevent\u001b[0m \u001b[0;34m==\u001b[0m \u001b[0;34m'call'\u001b[0m\u001b[0;34m:\u001b[0m\u001b[0;34m\u001b[0m\u001b[0;34m\u001b[0m\u001b[0m\n\u001b[1;32m     53\u001b[0m             \u001b[0;32mreturn\u001b[0m \u001b[0mself\u001b[0m\u001b[0;34m.\u001b[0m\u001b[0mdispatch_call\u001b[0m\u001b[0;34m(\u001b[0m\u001b[0mframe\u001b[0m\u001b[0;34m,\u001b[0m \u001b[0marg\u001b[0m\u001b[0;34m)\u001b[0m\u001b[0;34m\u001b[0m\u001b[0;34m\u001b[0m\u001b[0m\n",
      "\u001b[0;32m~/anaconda3/envs/conbirt-env/lib/python3.6/bdb.py\u001b[0m in \u001b[0;36mdispatch_line\u001b[0;34m(self, frame)\u001b[0m\n\u001b[1;32m     68\u001b[0m         \u001b[0;32mif\u001b[0m \u001b[0mself\u001b[0m\u001b[0;34m.\u001b[0m\u001b[0mstop_here\u001b[0m\u001b[0;34m(\u001b[0m\u001b[0mframe\u001b[0m\u001b[0;34m)\u001b[0m \u001b[0;32mor\u001b[0m \u001b[0mself\u001b[0m\u001b[0;34m.\u001b[0m\u001b[0mbreak_here\u001b[0m\u001b[0;34m(\u001b[0m\u001b[0mframe\u001b[0m\u001b[0;34m)\u001b[0m\u001b[0;34m:\u001b[0m\u001b[0;34m\u001b[0m\u001b[0;34m\u001b[0m\u001b[0m\n\u001b[1;32m     69\u001b[0m             \u001b[0mself\u001b[0m\u001b[0;34m.\u001b[0m\u001b[0muser_line\u001b[0m\u001b[0;34m(\u001b[0m\u001b[0mframe\u001b[0m\u001b[0;34m)\u001b[0m\u001b[0;34m\u001b[0m\u001b[0;34m\u001b[0m\u001b[0m\n\u001b[0;32m---> 70\u001b[0;31m             \u001b[0;32mif\u001b[0m \u001b[0mself\u001b[0m\u001b[0;34m.\u001b[0m\u001b[0mquitting\u001b[0m\u001b[0;34m:\u001b[0m \u001b[0;32mraise\u001b[0m \u001b[0mBdbQuit\u001b[0m\u001b[0;34m\u001b[0m\u001b[0;34m\u001b[0m\u001b[0m\n\u001b[0m\u001b[1;32m     71\u001b[0m         \u001b[0;32mreturn\u001b[0m \u001b[0mself\u001b[0m\u001b[0;34m.\u001b[0m\u001b[0mtrace_dispatch\u001b[0m\u001b[0;34m\u001b[0m\u001b[0;34m\u001b[0m\u001b[0m\n\u001b[1;32m     72\u001b[0m \u001b[0;34m\u001b[0m\u001b[0m\n",
      "\u001b[0;31mBdbQuit\u001b[0m: "
     ]
    }
   ],
   "source": [
    "from parsebat import parse_batlab_mat\n",
    "\n",
    "annot_list = parse_batlab_mat(mat_file='bird1_annotation.mat')"
   ]
  },
  {
   "cell_type": "code",
   "execution_count": null,
   "metadata": {},
   "outputs": [],
   "source": []
  }
 ],
 "metadata": {
  "kernelspec": {
   "display_name": "Python [conbirt-env]",
   "language": "python",
   "name": "Python [conbirt-env]"
  },
  "language_info": {
   "codemirror_mode": {
    "name": "ipython",
    "version": 3
   },
   "file_extension": ".py",
   "mimetype": "text/x-python",
   "name": "python",
   "nbconvert_exporter": "python",
   "pygments_lexer": "ipython3",
   "version": "3.6.7"
  }
 },
 "nbformat": 4,
 "nbformat_minor": 2
}
